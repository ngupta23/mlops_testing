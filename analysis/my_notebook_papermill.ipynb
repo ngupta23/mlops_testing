{
 "cells": [
  {
   "cell_type": "code",
   "execution_count": 1,
   "id": "b544348b",
   "metadata": {
    "execution": {
     "iopub.execute_input": "2021-05-11T16:29:17.022163Z",
     "iopub.status.busy": "2021-05-11T16:29:17.021525Z",
     "iopub.status.idle": "2021-05-11T16:29:17.396707Z",
     "shell.execute_reply": "2021-05-11T16:29:17.396094Z"
    },
    "papermill": {
     "duration": 0.387456,
     "end_time": "2021-05-11T16:29:17.396851",
     "exception": false,
     "start_time": "2021-05-11T16:29:17.009395",
     "status": "completed"
    },
    "tags": []
   },
   "outputs": [],
   "source": [
    "import time\n",
    "import numpy as np\n",
    "import pandas as pd"
   ]
  },
  {
   "cell_type": "code",
   "execution_count": 2,
   "id": "8cb77a70",
   "metadata": {
    "execution": {
     "iopub.execute_input": "2021-05-11T16:29:17.414265Z",
     "iopub.status.busy": "2021-05-11T16:29:17.413626Z",
     "iopub.status.idle": "2021-05-11T16:29:17.423056Z",
     "shell.execute_reply": "2021-05-11T16:29:17.423464Z"
    },
    "papermill": {
     "duration": 0.022951,
     "end_time": "2021-05-11T16:29:17.423592",
     "exception": false,
     "start_time": "2021-05-11T16:29:17.400641",
     "status": "completed"
    },
    "tags": []
   },
   "outputs": [
    {
     "data": {
      "text/html": [
       "<div>\n",
       "<style scoped>\n",
       "    .dataframe tbody tr th:only-of-type {\n",
       "        vertical-align: middle;\n",
       "    }\n",
       "\n",
       "    .dataframe tbody tr th {\n",
       "        vertical-align: top;\n",
       "    }\n",
       "\n",
       "    .dataframe thead th {\n",
       "        text-align: right;\n",
       "    }\n",
       "</style>\n",
       "<table border=\"1\" class=\"dataframe\">\n",
       "  <thead>\n",
       "    <tr style=\"text-align: right;\">\n",
       "      <th></th>\n",
       "      <th>a</th>\n",
       "      <th>b</th>\n",
       "      <th>c</th>\n",
       "    </tr>\n",
       "  </thead>\n",
       "  <tbody>\n",
       "    <tr>\n",
       "      <th>0</th>\n",
       "      <td>1</td>\n",
       "      <td>2.3</td>\n",
       "      <td>some</td>\n",
       "    </tr>\n",
       "    <tr>\n",
       "      <th>1</th>\n",
       "      <td>2</td>\n",
       "      <td>3.1</td>\n",
       "      <td>thing</td>\n",
       "    </tr>\n",
       "    <tr>\n",
       "      <th>2</th>\n",
       "      <td>3</td>\n",
       "      <td>1.2</td>\n",
       "      <td>here</td>\n",
       "    </tr>\n",
       "  </tbody>\n",
       "</table>\n",
       "</div>"
      ],
      "text/plain": [
       "   a    b      c\n",
       "0  1  2.3   some\n",
       "1  2  3.1  thing\n",
       "2  3  1.2   here"
      ]
     },
     "execution_count": 2,
     "metadata": {},
     "output_type": "execute_result"
    }
   ],
   "source": [
    "df = pd.DataFrame({'a': [1, 2, 3], 'b': [2.3, 3.1, 1.2], 'c': ['some', 'thing', 'here']})\n",
    "df"
   ]
  },
  {
   "cell_type": "code",
   "execution_count": 3,
   "id": "b11a366c",
   "metadata": {
    "execution": {
     "iopub.execute_input": "2021-05-11T16:29:17.437645Z",
     "iopub.status.busy": "2021-05-11T16:29:17.437109Z",
     "iopub.status.idle": "2021-05-11T16:29:19.441827Z",
     "shell.execute_reply": "2021-05-11T16:29:19.441388Z"
    },
    "papermill": {
     "duration": 2.011698,
     "end_time": "2021-05-11T16:29:19.441947",
     "exception": false,
     "start_time": "2021-05-11T16:29:17.430249",
     "status": "completed"
    },
    "tags": []
   },
   "outputs": [
    {
     "name": "stdout",
     "output_type": "stream",
     "text": [
      "DONE\n"
     ]
    }
   ],
   "source": [
    "time.sleep(2) # Sleep for xx seconds\n",
    "print(\"DONE\")"
   ]
  },
  {
   "cell_type": "code",
   "execution_count": null,
   "id": "3d590784",
   "metadata": {
    "papermill": {
     "duration": 0.00397,
     "end_time": "2021-05-11T16:29:19.450220",
     "exception": false,
     "start_time": "2021-05-11T16:29:19.446250",
     "status": "completed"
    },
    "tags": []
   },
   "outputs": [],
   "source": []
  }
 ],
 "metadata": {
  "kernelspec": {
   "display_name": "Python 3.8.8 64-bit ('mlops_testing': conda)",
   "name": "python388jvsc74a57bd02d08030c70d70d6aadde251cea00ccc38386389f7b4296cd6d9922a84807f3e7"
  },
  "language_info": {
   "codemirror_mode": {
    "name": "ipython",
    "version": 3
   },
   "file_extension": ".py",
   "mimetype": "text/x-python",
   "name": "python",
   "nbconvert_exporter": "python",
   "pygments_lexer": "ipython3",
   "version": "3.8.10"
  },
  "metadata": {
   "interpreter": {
    "hash": "2d08030c70d70d6aadde251cea00ccc38386389f7b4296cd6d9922a84807f3e7"
   }
  },
  "papermill": {
   "default_parameters": {},
   "duration": 3.845853,
   "end_time": "2021-05-11T16:29:19.659757",
   "environment_variables": {},
   "exception": null,
   "input_path": "analysis/my_notebook.ipynb",
   "output_path": "analysis/my_notebook_papermill.ipynb",
   "parameters": {},
   "start_time": "2021-05-11T16:29:15.813904",
   "version": "2.3.3"
  }
 },
 "nbformat": 4,
 "nbformat_minor": 5
}