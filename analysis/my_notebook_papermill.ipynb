{
 "cells": [
  {
   "cell_type": "code",
   "execution_count": 1,
   "id": "b544348b",
   "metadata": {
    "execution": {
     "iopub.execute_input": "2025-07-13T12:57:00.777204Z",
     "iopub.status.busy": "2025-07-13T12:57:00.776594Z",
     "iopub.status.idle": "2025-07-13T12:57:01.019506Z",
     "shell.execute_reply": "2025-07-13T12:57:01.018749Z"
    },
    "papermill": {
     "duration": 0.247031,
     "end_time": "2025-07-13T12:57:01.020957",
     "exception": false,
     "start_time": "2025-07-13T12:57:00.773926",
     "status": "completed"
    },
    "tags": []
   },
   "outputs": [],
   "source": [
    "import time\n",
    "import numpy as np\n",
    "import pandas as pd"
   ]
  },
  {
   "cell_type": "code",
   "execution_count": 2,
   "id": "8cb77a70",
   "metadata": {
    "execution": {
     "iopub.execute_input": "2025-07-13T12:57:01.025096Z",
     "iopub.status.busy": "2025-07-13T12:57:01.024513Z",
     "iopub.status.idle": "2025-07-13T12:57:01.035976Z",
     "shell.execute_reply": "2025-07-13T12:57:01.035323Z"
    },
    "papermill": {
     "duration": 0.014464,
     "end_time": "2025-07-13T12:57:01.037082",
     "exception": false,
     "start_time": "2025-07-13T12:57:01.022618",
     "status": "completed"
    },
    "tags": []
   },
   "outputs": [
    {
     "data": {
      "text/html": [
       "<div>\n",
       "<style scoped>\n",
       "    .dataframe tbody tr th:only-of-type {\n",
       "        vertical-align: middle;\n",
       "    }\n",
       "\n",
       "    .dataframe tbody tr th {\n",
       "        vertical-align: top;\n",
       "    }\n",
       "\n",
       "    .dataframe thead th {\n",
       "        text-align: right;\n",
       "    }\n",
       "</style>\n",
       "<table border=\"1\" class=\"dataframe\">\n",
       "  <thead>\n",
       "    <tr style=\"text-align: right;\">\n",
       "      <th></th>\n",
       "      <th>a</th>\n",
       "      <th>b</th>\n",
       "      <th>c</th>\n",
       "    </tr>\n",
       "  </thead>\n",
       "  <tbody>\n",
       "    <tr>\n",
       "      <th>0</th>\n",
       "      <td>1</td>\n",
       "      <td>2.3</td>\n",
       "      <td>some</td>\n",
       "    </tr>\n",
       "    <tr>\n",
       "      <th>1</th>\n",
       "      <td>2</td>\n",
       "      <td>3.1</td>\n",
       "      <td>thing</td>\n",
       "    </tr>\n",
       "    <tr>\n",
       "      <th>2</th>\n",
       "      <td>3</td>\n",
       "      <td>1.2</td>\n",
       "      <td>here</td>\n",
       "    </tr>\n",
       "  </tbody>\n",
       "</table>\n",
       "</div>"
      ],
      "text/plain": [
       "   a    b      c\n",
       "0  1  2.3   some\n",
       "1  2  3.1  thing\n",
       "2  3  1.2   here"
      ]
     },
     "execution_count": 2,
     "metadata": {},
     "output_type": "execute_result"
    }
   ],
   "source": [
    "df = pd.DataFrame({'a': [1, 2, 3], 'b': [2.3, 3.1, 1.2], 'c': ['some', 'thing', 'here']})\n",
    "df"
   ]
  },
  {
   "cell_type": "code",
   "execution_count": 3,
   "id": "b11a366c",
   "metadata": {
    "execution": {
     "iopub.execute_input": "2025-07-13T12:57:01.040654Z",
     "iopub.status.busy": "2025-07-13T12:57:01.040257Z",
     "iopub.status.idle": "2025-07-13T12:57:03.046178Z",
     "shell.execute_reply": "2025-07-13T12:57:03.045523Z"
    },
    "papermill": {
     "duration": 2.008824,
     "end_time": "2025-07-13T12:57:03.047277",
     "exception": false,
     "start_time": "2025-07-13T12:57:01.038453",
     "status": "completed"
    },
    "tags": []
   },
   "outputs": [
    {
     "name": "stdout",
     "output_type": "stream",
     "text": [
      "DONE\n"
     ]
    }
   ],
   "source": [
    "time.sleep(2) # Sleep for xx seconds\n",
    "print(\"DONE\")"
   ]
  },
  {
   "cell_type": "code",
   "execution_count": null,
   "id": "3d590784",
   "metadata": {
    "papermill": {
     "duration": 0.001237,
     "end_time": "2025-07-13T12:57:03.050102",
     "exception": false,
     "start_time": "2025-07-13T12:57:03.048865",
     "status": "completed"
    },
    "tags": []
   },
   "outputs": [],
   "source": []
  }
 ],
 "metadata": {
  "kernelspec": {
   "display_name": "Python 3.8.8 64-bit ('mlops_testing': conda)",
   "name": "python388jvsc74a57bd02d08030c70d70d6aadde251cea00ccc38386389f7b4296cd6d9922a84807f3e7"
  },
  "language_info": {
   "codemirror_mode": {
    "name": "ipython",
    "version": 3
   },
   "file_extension": ".py",
   "mimetype": "text/x-python",
   "name": "python",
   "nbconvert_exporter": "python",
   "pygments_lexer": "ipython3",
   "version": "3.8.18"
  },
  "metadata": {
   "interpreter": {
    "hash": "2d08030c70d70d6aadde251cea00ccc38386389f7b4296cd6d9922a84807f3e7"
   }
  },
  "papermill": {
   "default_parameters": {},
   "duration": 3.343725,
   "end_time": "2025-07-13T12:57:03.268324",
   "environment_variables": {},
   "exception": null,
   "input_path": "analysis/my_notebook.ipynb",
   "output_path": "analysis/my_notebook_papermill.ipynb",
   "parameters": {},
   "start_time": "2025-07-13T12:56:59.924599",
   "version": "2.3.3"
  }
 },
 "nbformat": 4,
 "nbformat_minor": 5
}