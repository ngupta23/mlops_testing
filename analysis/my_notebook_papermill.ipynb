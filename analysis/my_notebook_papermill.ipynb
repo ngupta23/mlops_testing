{
 "cells": [
  {
   "cell_type": "code",
   "execution_count": 1,
   "id": "b544348b",
   "metadata": {
    "execution": {
     "iopub.execute_input": "2021-05-11T05:28:08.810736Z",
     "iopub.status.busy": "2021-05-11T05:28:08.810155Z",
     "iopub.status.idle": "2021-05-11T05:28:09.074323Z",
     "shell.execute_reply": "2021-05-11T05:28:09.073719Z"
    },
    "papermill": {
     "duration": 0.279362,
     "end_time": "2021-05-11T05:28:09.074473",
     "exception": false,
     "start_time": "2021-05-11T05:28:08.795111",
     "status": "completed"
    },
    "tags": []
   },
   "outputs": [],
   "source": [
    "import time\n",
    "import numpy as np\n",
    "import pandas as pd"
   ]
  },
  {
   "cell_type": "code",
   "execution_count": 2,
   "id": "8cb77a70",
   "metadata": {
    "execution": {
     "iopub.execute_input": "2021-05-11T05:28:09.093509Z",
     "iopub.status.busy": "2021-05-11T05:28:09.092890Z",
     "iopub.status.idle": "2021-05-11T05:28:09.102639Z",
     "shell.execute_reply": "2021-05-11T05:28:09.103100Z"
    },
    "papermill": {
     "duration": 0.024965,
     "end_time": "2021-05-11T05:28:09.103257",
     "exception": false,
     "start_time": "2021-05-11T05:28:09.078292",
     "status": "completed"
    },
    "tags": []
   },
   "outputs": [
    {
     "data": {
      "text/html": [
       "<div>\n",
       "<style scoped>\n",
       "    .dataframe tbody tr th:only-of-type {\n",
       "        vertical-align: middle;\n",
       "    }\n",
       "\n",
       "    .dataframe tbody tr th {\n",
       "        vertical-align: top;\n",
       "    }\n",
       "\n",
       "    .dataframe thead th {\n",
       "        text-align: right;\n",
       "    }\n",
       "</style>\n",
       "<table border=\"1\" class=\"dataframe\">\n",
       "  <thead>\n",
       "    <tr style=\"text-align: right;\">\n",
       "      <th></th>\n",
       "      <th>a</th>\n",
       "      <th>b</th>\n",
       "      <th>c</th>\n",
       "    </tr>\n",
       "  </thead>\n",
       "  <tbody>\n",
       "    <tr>\n",
       "      <th>0</th>\n",
       "      <td>1</td>\n",
       "      <td>2.3</td>\n",
       "      <td>some</td>\n",
       "    </tr>\n",
       "    <tr>\n",
       "      <th>1</th>\n",
       "      <td>2</td>\n",
       "      <td>3.1</td>\n",
       "      <td>thing</td>\n",
       "    </tr>\n",
       "    <tr>\n",
       "      <th>2</th>\n",
       "      <td>3</td>\n",
       "      <td>1.2</td>\n",
       "      <td>here</td>\n",
       "    </tr>\n",
       "  </tbody>\n",
       "</table>\n",
       "</div>"
      ],
      "text/plain": [
       "   a    b      c\n",
       "0  1  2.3   some\n",
       "1  2  3.1  thing\n",
       "2  3  1.2   here"
      ]
     },
     "execution_count": 2,
     "metadata": {},
     "output_type": "execute_result"
    }
   ],
   "source": [
    "df = pd.DataFrame({'a': [1, 2, 3], 'b': [2.3, 3.1, 1.2], 'c': ['some', 'thing', 'here']})\n",
    "df"
   ]
  },
  {
   "cell_type": "code",
   "execution_count": 3,
   "id": "b11a366c",
   "metadata": {
    "execution": {
     "iopub.execute_input": "2021-05-11T05:28:09.115204Z",
     "iopub.status.busy": "2021-05-11T05:28:09.114637Z",
     "iopub.status.idle": "2021-05-11T05:28:11.124388Z",
     "shell.execute_reply": "2021-05-11T05:28:11.123628Z"
    },
    "papermill": {
     "duration": 2.017462,
     "end_time": "2021-05-11T05:28:11.124516",
     "exception": false,
     "start_time": "2021-05-11T05:28:09.107054",
     "status": "completed"
    },
    "tags": []
   },
   "outputs": [
    {
     "name": "stdout",
     "output_type": "stream",
     "text": [
      "DONE\n"
     ]
    }
   ],
   "source": [
    "time.sleep(2) # Sleep for xx seconds\n",
    "print(\"DONE\")"
   ]
  },
  {
   "cell_type": "code",
   "execution_count": null,
   "id": "3d590784",
   "metadata": {
    "papermill": {
     "duration": 0.00543,
     "end_time": "2021-05-11T05:28:11.135516",
     "exception": false,
     "start_time": "2021-05-11T05:28:11.130086",
     "status": "completed"
    },
    "tags": []
   },
   "outputs": [],
   "source": []
  }
 ],
 "metadata": {
  "kernelspec": {
   "display_name": "Python 3.8.8 64-bit ('mlops_testing': conda)",
   "name": "python388jvsc74a57bd02d08030c70d70d6aadde251cea00ccc38386389f7b4296cd6d9922a84807f3e7"
  },
  "language_info": {
   "codemirror_mode": {
    "name": "ipython",
    "version": 3
   },
   "file_extension": ".py",
   "mimetype": "text/x-python",
   "name": "python",
   "nbconvert_exporter": "python",
   "pygments_lexer": "ipython3",
   "version": "3.8.10"
  },
  "metadata": {
   "interpreter": {
    "hash": "2d08030c70d70d6aadde251cea00ccc38386389f7b4296cd6d9922a84807f3e7"
   }
  },
  "papermill": {
   "default_parameters": {},
   "duration": 3.687064,
   "end_time": "2021-05-11T05:28:11.447035",
   "environment_variables": {},
   "exception": null,
   "input_path": "analysis/my_notebook.ipynb",
   "output_path": "analysis/my_notebook_papermill.ipynb",
   "parameters": {},
   "start_time": "2021-05-11T05:28:07.759971",
   "version": "2.3.3"
  }
 },
 "nbformat": 4,
 "nbformat_minor": 5
}